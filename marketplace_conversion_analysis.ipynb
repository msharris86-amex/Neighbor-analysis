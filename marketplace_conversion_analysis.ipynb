{
  "cells": [
    {
      "cell_type": "markdown",
      "metadata": {},
      "source": [
        "# Marketplace Conversion Funnel Analysis\n",
        "\n",
        "## Overview\n",
        "This notebook performs comprehensive analysis of the marketplace conversion funnel from search to payment, using SQL for data processing and Python for visualization and insights.\n",
        "\n",
        "### Business Questions\n",
        "- What is the overall conversion rate from search to payment?\n",
        "- Where are users dropping off in the funnel?\n",
        "- What factors influence conversion rates?\n",
        "- How can we improve conversion rates?\n",
        "\n",
        "### Data Sources\n",
        "1. **all_search_events**: Search activity data\n",
        "2. **view_listing_detail_events**: Listing view data  \n",
        "3. **reservations**: Booking and payment data\n",
        "4. **amplitude_user_ids**: User ID mapping\n"
      ]
    },
    {
      "cell_type": "code",
      "execution_count": null,
      "metadata": {},
      "outputs": [],
      "source": [
        "# Import required libraries\n",
        "import pandas as pd\n",
        "import numpy as np\n",
        "import matplotlib.pyplot as plt\n",
        "import seaborn as sns\n",
        "import sqlite3\n",
        "from datetime import datetime, timedelta\n",
        "import warnings\n",
        "warnings.filterwarnings('ignore')\n",
        "\n",
        "# Set plotting style\n",
        "plt.style.use('seaborn-v0_8')\n",
        "sns.set_palette(\"husl\")\n",
        "\n",
        "# Configure display options\n",
        "pd.set_option('display.max_columns', None)\n",
        "pd.set_option('display.width', None)\n",
        "pd.set_option('display.max_colwidth', None)\n",
        "\n",
        "print(\"Libraries imported successfully!\")\n"
      ]
    },
    {
      "cell_type": "markdown",
      "metadata": {},
      "source": [
        "## Data Loading and Database Setup\n",
        "\n",
        "First, we'll load the CSV files and create a SQLite database for efficient SQL analysis.\n"
      ]
    },
    {
      "cell_type": "code",
      "execution_count": null,
      "metadata": {},
      "outputs": [],
      "source": [
        "# Load CSV files and create SQLite database\n",
        "print(\"Loading CSV files...\")\n",
        "\n",
        "# Load the datasets\n",
        "search_events = pd.read_csv('all_search_events (1).csv')\n",
        "listing_views = pd.read_csv('view_listing_detail_events (1).csv')\n",
        "reservations = pd.read_csv('reservations (1).csv')\n",
        "user_ids = pd.read_csv('amplitude_user_ids (1).csv')\n",
        "\n",
        "print(f\"Search events: {len(search_events):,} records\")\n",
        "print(f\"Listing views: {len(listing_views):,} records\")\n",
        "print(f\"Reservations: {len(reservations):,} records\")\n",
        "print(f\"User IDs: {len(user_ids):,} records\")\n",
        "\n",
        "# Convert date columns\n",
        "search_events['event_time'] = pd.to_datetime(search_events['event_time'])\n",
        "search_events['event_date'] = pd.to_datetime(search_events['event_date'])\n",
        "\n",
        "listing_views['event_time'] = pd.to_datetime(listing_views['event_time'])\n",
        "listing_views['event_date'] = pd.to_datetime(listing_views['event_date'])\n",
        "\n",
        "reservations['created_at'] = pd.to_datetime(reservations['created_at'])\n",
        "reservations['approved_at'] = pd.to_datetime(reservations['approved_at'])\n",
        "reservations['successful_payment_collected_at'] = pd.to_datetime(reservations['successful_payment_collected_at'])\n",
        "\n",
        "print(\"Date columns converted successfully!\")\n"
      ]
    },
    {
      "cell_type": "code",
      "execution_count": null,
      "metadata": {},
      "outputs": [],
      "source": [
        "# Create SQLite database for SQL analysis\n",
        "print(\"Creating SQLite database...\")\n",
        "\n",
        "conn = sqlite3.connect('marketplace_analysis.db')\n",
        "\n",
        "# Write data to database\n",
        "search_events.to_sql('search_events', conn, if_exists='replace', index=False)\n",
        "listing_views.to_sql('listing_views', conn, if_exists='replace', index=False)\n",
        "reservations.to_sql('reservations', conn, if_exists='replace', index=False)\n",
        "user_ids.to_sql('amplitude_user_ids', conn, if_exists='replace', index=False)\n",
        "\n",
        "print(\"Database created successfully!\")\n",
        "print(\"Tables created: search_events, listing_views, reservations, amplitude_user_ids\")\n"
      ]
    },
    {
      "cell_type": "markdown",
      "metadata": {},
      "source": [
        "## SQL Analysis - Conversion Funnel\n",
        "\n",
        "Now we'll use SQL to perform comprehensive analysis of the conversion funnel. This approach allows us to handle large datasets efficiently and perform complex joins and aggregations.\n"
      ]
    },
    {
      "cell_type": "code",
      "execution_count": null,
      "metadata": {},
      "outputs": [],
      "source": []
    }
  ],
  "metadata": {
    "language_info": {
      "name": "python"
    }
  },
  "nbformat": 4,
  "nbformat_minor": 2
}
